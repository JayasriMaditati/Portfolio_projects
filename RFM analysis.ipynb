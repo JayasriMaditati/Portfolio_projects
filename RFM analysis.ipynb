{
 "cells": [
  {
   "cell_type": "code",
   "execution_count": 114,
   "metadata": {},
   "outputs": [],
   "source": [
    "import pandas as pd\n",
    "cust = pd.read_csv(r\"C:\\Users\\ibeme\\Downloads\\Datasets\\Customer_demo.csv\")\n",
    "trans = pd.read_csv(r\"C:\\Users\\ibeme\\Downloads\\Datasets\\Transactional_level.csv\")"
   ]
  },
  {
   "cell_type": "code",
   "execution_count": 115,
   "metadata": {},
   "outputs": [
    {
     "data": {
      "text/html": [
       "<div>\n",
       "<style scoped>\n",
       "    .dataframe tbody tr th:only-of-type {\n",
       "        vertical-align: middle;\n",
       "    }\n",
       "\n",
       "    .dataframe tbody tr th {\n",
       "        vertical-align: top;\n",
       "    }\n",
       "\n",
       "    .dataframe thead th {\n",
       "        text-align: right;\n",
       "    }\n",
       "</style>\n",
       "<table border=\"1\" class=\"dataframe\">\n",
       "  <thead>\n",
       "    <tr style=\"text-align: right;\">\n",
       "      <th></th>\n",
       "      <th>Unnamed: 0</th>\n",
       "      <th>customer_id</th>\n",
       "      <th>first_name</th>\n",
       "      <th>last_name</th>\n",
       "      <th>gender</th>\n",
       "      <th>past_3_years_bike_related_purchases</th>\n",
       "      <th>DOB</th>\n",
       "      <th>job_title</th>\n",
       "      <th>job_industry_category</th>\n",
       "      <th>wealth_segment</th>\n",
       "      <th>deceased_indicator</th>\n",
       "      <th>owns_car</th>\n",
       "      <th>tenure</th>\n",
       "      <th>Age</th>\n",
       "    </tr>\n",
       "  </thead>\n",
       "  <tbody>\n",
       "    <tr>\n",
       "      <th>0</th>\n",
       "      <td>0</td>\n",
       "      <td>1</td>\n",
       "      <td>Laraine</td>\n",
       "      <td>Medendorp</td>\n",
       "      <td>Female</td>\n",
       "      <td>93</td>\n",
       "      <td>1953-10-12</td>\n",
       "      <td>Executive Secretary</td>\n",
       "      <td>Health</td>\n",
       "      <td>Mass Customer</td>\n",
       "      <td>N</td>\n",
       "      <td>Yes</td>\n",
       "      <td>11.0</td>\n",
       "      <td>70</td>\n",
       "    </tr>\n",
       "    <tr>\n",
       "      <th>1</th>\n",
       "      <td>1</td>\n",
       "      <td>2</td>\n",
       "      <td>Eli</td>\n",
       "      <td>Bockman</td>\n",
       "      <td>Male</td>\n",
       "      <td>81</td>\n",
       "      <td>1980-12-16</td>\n",
       "      <td>Administrative Officer</td>\n",
       "      <td>Financial Services</td>\n",
       "      <td>Mass Customer</td>\n",
       "      <td>N</td>\n",
       "      <td>Yes</td>\n",
       "      <td>16.0</td>\n",
       "      <td>43</td>\n",
       "    </tr>\n",
       "    <tr>\n",
       "      <th>2</th>\n",
       "      <td>2</td>\n",
       "      <td>3</td>\n",
       "      <td>Arlin</td>\n",
       "      <td>Dearle</td>\n",
       "      <td>Male</td>\n",
       "      <td>61</td>\n",
       "      <td>1954-01-20</td>\n",
       "      <td>Recruiting Manager</td>\n",
       "      <td>Property</td>\n",
       "      <td>Mass Customer</td>\n",
       "      <td>N</td>\n",
       "      <td>Yes</td>\n",
       "      <td>15.0</td>\n",
       "      <td>70</td>\n",
       "    </tr>\n",
       "    <tr>\n",
       "      <th>3</th>\n",
       "      <td>3</td>\n",
       "      <td>4</td>\n",
       "      <td>Talbot</td>\n",
       "      <td>None</td>\n",
       "      <td>Male</td>\n",
       "      <td>33</td>\n",
       "      <td>1961-10-03</td>\n",
       "      <td>Missing</td>\n",
       "      <td>IT</td>\n",
       "      <td>Mass Customer</td>\n",
       "      <td>N</td>\n",
       "      <td>No</td>\n",
       "      <td>7.0</td>\n",
       "      <td>62</td>\n",
       "    </tr>\n",
       "    <tr>\n",
       "      <th>4</th>\n",
       "      <td>4</td>\n",
       "      <td>5</td>\n",
       "      <td>Sheila-kathryn</td>\n",
       "      <td>Calton</td>\n",
       "      <td>Female</td>\n",
       "      <td>56</td>\n",
       "      <td>1977-05-13</td>\n",
       "      <td>Senior Editor</td>\n",
       "      <td>Missing</td>\n",
       "      <td>Affluent Customer</td>\n",
       "      <td>N</td>\n",
       "      <td>Yes</td>\n",
       "      <td>8.0</td>\n",
       "      <td>46</td>\n",
       "    </tr>\n",
       "  </tbody>\n",
       "</table>\n",
       "</div>"
      ],
      "text/plain": [
       "   Unnamed: 0  customer_id      first_name  last_name  gender  \\\n",
       "0           0            1         Laraine  Medendorp  Female   \n",
       "1           1            2             Eli    Bockman    Male   \n",
       "2           2            3           Arlin     Dearle    Male   \n",
       "3           3            4          Talbot       None    Male   \n",
       "4           4            5  Sheila-kathryn     Calton  Female   \n",
       "\n",
       "   past_3_years_bike_related_purchases         DOB               job_title  \\\n",
       "0                                   93  1953-10-12     Executive Secretary   \n",
       "1                                   81  1980-12-16  Administrative Officer   \n",
       "2                                   61  1954-01-20      Recruiting Manager   \n",
       "3                                   33  1961-10-03                 Missing   \n",
       "4                                   56  1977-05-13           Senior Editor   \n",
       "\n",
       "  job_industry_category     wealth_segment deceased_indicator owns_car  \\\n",
       "0                Health      Mass Customer                  N      Yes   \n",
       "1    Financial Services      Mass Customer                  N      Yes   \n",
       "2              Property      Mass Customer                  N      Yes   \n",
       "3                    IT      Mass Customer                  N       No   \n",
       "4               Missing  Affluent Customer                  N      Yes   \n",
       "\n",
       "   tenure  Age  \n",
       "0    11.0   70  \n",
       "1    16.0   43  \n",
       "2    15.0   70  \n",
       "3     7.0   62  \n",
       "4     8.0   46  "
      ]
     },
     "execution_count": 115,
     "metadata": {},
     "output_type": "execute_result"
    }
   ],
   "source": [
    "cust.head()"
   ]
  },
  {
   "cell_type": "code",
   "execution_count": 5,
   "metadata": {},
   "outputs": [
    {
     "data": {
      "text/html": [
       "<div>\n",
       "<style scoped>\n",
       "    .dataframe tbody tr th:only-of-type {\n",
       "        vertical-align: middle;\n",
       "    }\n",
       "\n",
       "    .dataframe tbody tr th {\n",
       "        vertical-align: top;\n",
       "    }\n",
       "\n",
       "    .dataframe thead th {\n",
       "        text-align: right;\n",
       "    }\n",
       "</style>\n",
       "<table border=\"1\" class=\"dataframe\">\n",
       "  <thead>\n",
       "    <tr style=\"text-align: right;\">\n",
       "      <th></th>\n",
       "      <th>Unnamed: 0</th>\n",
       "      <th>transaction_id</th>\n",
       "      <th>product_id</th>\n",
       "      <th>customer_id</th>\n",
       "      <th>transaction_date</th>\n",
       "      <th>online_order</th>\n",
       "      <th>order_status</th>\n",
       "      <th>brand</th>\n",
       "      <th>product_line</th>\n",
       "      <th>product_class</th>\n",
       "      <th>product_size</th>\n",
       "      <th>list_price</th>\n",
       "      <th>standard_cost</th>\n",
       "      <th>product_first_sold_date</th>\n",
       "      <th>Profit</th>\n",
       "    </tr>\n",
       "  </thead>\n",
       "  <tbody>\n",
       "    <tr>\n",
       "      <th>0</th>\n",
       "      <td>0</td>\n",
       "      <td>1</td>\n",
       "      <td>2</td>\n",
       "      <td>2950</td>\n",
       "      <td>2017-02-25</td>\n",
       "      <td>0.0</td>\n",
       "      <td>Approved</td>\n",
       "      <td>Solex</td>\n",
       "      <td>Standard</td>\n",
       "      <td>medium</td>\n",
       "      <td>medium</td>\n",
       "      <td>71.49</td>\n",
       "      <td>53.62</td>\n",
       "      <td>41245.0</td>\n",
       "      <td>17.87</td>\n",
       "    </tr>\n",
       "    <tr>\n",
       "      <th>1</th>\n",
       "      <td>1</td>\n",
       "      <td>2</td>\n",
       "      <td>3</td>\n",
       "      <td>3120</td>\n",
       "      <td>2017-05-21</td>\n",
       "      <td>1.0</td>\n",
       "      <td>Approved</td>\n",
       "      <td>Trek Bicycles</td>\n",
       "      <td>Standard</td>\n",
       "      <td>medium</td>\n",
       "      <td>large</td>\n",
       "      <td>2091.47</td>\n",
       "      <td>388.92</td>\n",
       "      <td>41701.0</td>\n",
       "      <td>1702.55</td>\n",
       "    </tr>\n",
       "    <tr>\n",
       "      <th>2</th>\n",
       "      <td>2</td>\n",
       "      <td>3</td>\n",
       "      <td>37</td>\n",
       "      <td>402</td>\n",
       "      <td>2017-10-16</td>\n",
       "      <td>0.0</td>\n",
       "      <td>Approved</td>\n",
       "      <td>OHM Cycles</td>\n",
       "      <td>Standard</td>\n",
       "      <td>low</td>\n",
       "      <td>medium</td>\n",
       "      <td>1793.43</td>\n",
       "      <td>248.82</td>\n",
       "      <td>36361.0</td>\n",
       "      <td>1544.61</td>\n",
       "    </tr>\n",
       "    <tr>\n",
       "      <th>3</th>\n",
       "      <td>3</td>\n",
       "      <td>4</td>\n",
       "      <td>88</td>\n",
       "      <td>3135</td>\n",
       "      <td>2017-08-31</td>\n",
       "      <td>0.0</td>\n",
       "      <td>Approved</td>\n",
       "      <td>Norco Bicycles</td>\n",
       "      <td>Standard</td>\n",
       "      <td>medium</td>\n",
       "      <td>medium</td>\n",
       "      <td>1198.46</td>\n",
       "      <td>381.10</td>\n",
       "      <td>36145.0</td>\n",
       "      <td>817.36</td>\n",
       "    </tr>\n",
       "    <tr>\n",
       "      <th>4</th>\n",
       "      <td>4</td>\n",
       "      <td>5</td>\n",
       "      <td>78</td>\n",
       "      <td>787</td>\n",
       "      <td>2017-10-01</td>\n",
       "      <td>1.0</td>\n",
       "      <td>Approved</td>\n",
       "      <td>Giant Bicycles</td>\n",
       "      <td>Standard</td>\n",
       "      <td>medium</td>\n",
       "      <td>large</td>\n",
       "      <td>1765.30</td>\n",
       "      <td>709.48</td>\n",
       "      <td>42226.0</td>\n",
       "      <td>1055.82</td>\n",
       "    </tr>\n",
       "  </tbody>\n",
       "</table>\n",
       "</div>"
      ],
      "text/plain": [
       "   Unnamed: 0  transaction_id  product_id  customer_id transaction_date  \\\n",
       "0           0               1           2         2950       2017-02-25   \n",
       "1           1               2           3         3120       2017-05-21   \n",
       "2           2               3          37          402       2017-10-16   \n",
       "3           3               4          88         3135       2017-08-31   \n",
       "4           4               5          78          787       2017-10-01   \n",
       "\n",
       "   online_order order_status           brand product_line product_class  \\\n",
       "0           0.0     Approved           Solex     Standard        medium   \n",
       "1           1.0     Approved   Trek Bicycles     Standard        medium   \n",
       "2           0.0     Approved      OHM Cycles     Standard           low   \n",
       "3           0.0     Approved  Norco Bicycles     Standard        medium   \n",
       "4           1.0     Approved  Giant Bicycles     Standard        medium   \n",
       "\n",
       "  product_size  list_price  standard_cost  product_first_sold_date   Profit  \n",
       "0       medium       71.49          53.62                  41245.0    17.87  \n",
       "1        large     2091.47         388.92                  41701.0  1702.55  \n",
       "2       medium     1793.43         248.82                  36361.0  1544.61  \n",
       "3       medium     1198.46         381.10                  36145.0   817.36  \n",
       "4        large     1765.30         709.48                  42226.0  1055.82  "
      ]
     },
     "execution_count": 5,
     "metadata": {},
     "output_type": "execute_result"
    }
   ],
   "source": [
    "trans.head()"
   ]
  },
  {
   "cell_type": "code",
   "execution_count": 6,
   "metadata": {},
   "outputs": [
    {
     "name": "stdout",
     "output_type": "stream",
     "text": [
      "Total Records in customer dataset: 3912\n",
      "Total Records in customer dataset: 14\n"
     ]
    }
   ],
   "source": [
    "print(\"Total Records in customer dataset:\",cust.shape[0])\n",
    "print(\"Total Records in customer dataset:\",cust.shape[1])"
   ]
  },
  {
   "cell_type": "code",
   "execution_count": 7,
   "metadata": {},
   "outputs": [
    {
     "name": "stdout",
     "output_type": "stream",
     "text": [
      "Total Records in Transaction dataset: 19803\n",
      "Total Records in Transaction dataset: 15\n"
     ]
    }
   ],
   "source": [
    "print(\"Total Records in Transaction dataset:\",trans.shape[0])\n",
    "print(\"Total Records in Transaction dataset:\",trans.shape[1])"
   ]
  },
  {
   "cell_type": "code",
   "execution_count": 116,
   "metadata": {},
   "outputs": [],
   "source": [
    "#merging both transactions and customer datset\n",
    "\n",
    "merged_df = cust.merge(trans,how='inner',left_on='customer_id',right_on='customer_id')"
   ]
  },
  {
   "cell_type": "code",
   "execution_count": 117,
   "metadata": {},
   "outputs": [
    {
     "name": "stdout",
     "output_type": "stream",
     "text": [
      "<class 'pandas.core.frame.DataFrame'>\n",
      "Int64Index: 19354 entries, 0 to 19353\n",
      "Data columns (total 28 columns):\n",
      " #   Column                               Non-Null Count  Dtype  \n",
      "---  ------                               --------------  -----  \n",
      " 0   Unnamed: 0_x                         19354 non-null  int64  \n",
      " 1   customer_id                          19354 non-null  int64  \n",
      " 2   first_name                           19354 non-null  object \n",
      " 3   last_name                            19354 non-null  object \n",
      " 4   gender                               19354 non-null  object \n",
      " 5   past_3_years_bike_related_purchases  19354 non-null  int64  \n",
      " 6   DOB                                  19354 non-null  object \n",
      " 7   job_title                            19354 non-null  object \n",
      " 8   job_industry_category                19354 non-null  object \n",
      " 9   wealth_segment                       19354 non-null  object \n",
      " 10  deceased_indicator                   19354 non-null  object \n",
      " 11  owns_car                             19354 non-null  object \n",
      " 12  tenure                               19354 non-null  float64\n",
      " 13  Age                                  19354 non-null  int64  \n",
      " 14  Unnamed: 0_y                         19354 non-null  int64  \n",
      " 15  transaction_id                       19354 non-null  int64  \n",
      " 16  product_id                           19354 non-null  int64  \n",
      " 17  transaction_date                     19354 non-null  object \n",
      " 18  online_order                         19354 non-null  float64\n",
      " 19  order_status                         19354 non-null  object \n",
      " 20  brand                                19354 non-null  object \n",
      " 21  product_line                         19354 non-null  object \n",
      " 22  product_class                        19354 non-null  object \n",
      " 23  product_size                         19354 non-null  object \n",
      " 24  list_price                           19354 non-null  float64\n",
      " 25  standard_cost                        19354 non-null  float64\n",
      " 26  product_first_sold_date              19354 non-null  float64\n",
      " 27  Profit                               19354 non-null  float64\n",
      "dtypes: float64(6), int64(7), object(15)\n",
      "memory usage: 4.3+ MB\n"
     ]
    }
   ],
   "source": [
    "merged_df.info()"
   ]
  },
  {
   "cell_type": "code",
   "execution_count": 118,
   "metadata": {},
   "outputs": [],
   "source": [
    "merged_df['transaction_date']=pd.to_datetime(merged_df['transaction_date'])"
   ]
  },
  {
   "cell_type": "code",
   "execution_count": 11,
   "metadata": {},
   "outputs": [
    {
     "data": {
      "text/plain": [
       "Unnamed: 0_x                                             0\n",
       "customer_id                                              1\n",
       "first_name                                         Laraine\n",
       "last_name                                        Medendorp\n",
       "gender                                              Female\n",
       "past_3_years_bike_related_purchases                     93\n",
       "DOB                                             1953-10-12\n",
       "job_title                              Executive Secretary\n",
       "job_industry_category                               Health\n",
       "wealth_segment                               Mass Customer\n",
       "deceased_indicator                                       N\n",
       "owns_car                                               Yes\n",
       "tenure                                                11.0\n",
       "Age                                                     70\n",
       "Unnamed: 0_y                                            93\n",
       "transaction_id                                          94\n",
       "product_id                                              86\n",
       "transaction_date                       2017-12-23 00:00:00\n",
       "online_order                                           0.0\n",
       "order_status                                      Approved\n",
       "brand                                           OHM Cycles\n",
       "product_line                                      Standard\n",
       "product_class                                       medium\n",
       "product_size                                        medium\n",
       "list_price                                          235.63\n",
       "standard_cost                                       125.07\n",
       "product_first_sold_date                            38482.0\n",
       "Profit                                              110.56\n",
       "Name: 0, dtype: object"
      ]
     },
     "execution_count": 11,
     "metadata": {},
     "output_type": "execute_result"
    }
   ],
   "source": [
    "##RFM Analysis\n",
    "merged_df.iloc[0]"
   ]
  },
  {
   "cell_type": "code",
   "execution_count": 119,
   "metadata": {},
   "outputs": [
    {
     "data": {
      "text/plain": [
       "datetime.date(2017, 12, 30)"
      ]
     },
     "execution_count": 119,
     "metadata": {},
     "output_type": "execute_result"
    }
   ],
   "source": [
    "max_trans_date = max(merged_df['transaction_date']).date()\n",
    "max_trans_date"
   ]
  },
  {
   "cell_type": "code",
   "execution_count": 120,
   "metadata": {},
   "outputs": [],
   "source": [
    "from datetime import datetime"
   ]
  },
  {
   "cell_type": "code",
   "execution_count": 121,
   "metadata": {},
   "outputs": [],
   "source": [
    "comparision_date =datetime.strptime(str(max_trans_date),\"%Y-%m-%d\")"
   ]
  },
  {
   "cell_type": "code",
   "execution_count": 122,
   "metadata": {},
   "outputs": [],
   "source": [
    "rfm_table = merged_df.groupby(['customer_id']).agg({'transaction_date':lambda date:(comparision_date-date.max()),\n",
    "                                       'product_id':'count',\n",
    "                                       'Profit':'sum' })"
   ]
  },
  {
   "cell_type": "code",
   "execution_count": 123,
   "metadata": {},
   "outputs": [],
   "source": [
    "rfm_table.rename(columns={'transaction_date':'recency',\n",
    "                          'product_id':'Frequency',\n",
    "                          'Profit':'Monetory'},inplace=True)"
   ]
  },
  {
   "cell_type": "code",
   "execution_count": 124,
   "metadata": {},
   "outputs": [],
   "source": [
    "# Dividing the recency, frequency and monetary into 4 quartiles (min, 25%, 50%, 75% and max).\n",
    "# These values will help us to calculate RFM score for a customer and classify based on their RFM score.\n",
    "\n",
    "rfm_table['rec_quartile']=pd.qcut(rfm_table['recency'],4,['4','3','2','1'])\n",
    "rfm_table['fre_quartile']=pd.qcut(rfm_table['Frequency'],4,['4','3','2','1'])\n",
    "rfm_table['mon_quartile']=pd.qcut(rfm_table['Monetory'],4,['4','3','2','1'])"
   ]
  },
  {
   "cell_type": "code",
   "execution_count": 125,
   "metadata": {},
   "outputs": [],
   "source": [
    "# Caluclation of RFM Score.\n",
    "# Max weightage is given to recency then frequency and then  monetary.\n",
    "\n",
    "rfm_table['rfm_score']=100*rfm_table['rec_quartile'].astype(int) + 10*rfm_table['fre_quartile'].astype(int)+rfm_table['mon_quartile'].astype(int)"
   ]
  },
  {
   "cell_type": "code",
   "execution_count": 19,
   "metadata": {},
   "outputs": [],
   "source": [
    "rfm_table['customer_title']=pd.qcut(rfm_table['rfm_score'],4,['Bronze','Silver','Gold','Platinum'])"
   ]
  },
  {
   "cell_type": "code",
   "execution_count": 131,
   "metadata": {},
   "outputs": [
    {
     "data": {
      "text/html": [
       "<div>\n",
       "<style scoped>\n",
       "    .dataframe tbody tr th:only-of-type {\n",
       "        vertical-align: middle;\n",
       "    }\n",
       "\n",
       "    .dataframe tbody tr th {\n",
       "        vertical-align: top;\n",
       "    }\n",
       "\n",
       "    .dataframe thead th {\n",
       "        text-align: right;\n",
       "    }\n",
       "</style>\n",
       "<table border=\"1\" class=\"dataframe\">\n",
       "  <thead>\n",
       "    <tr style=\"text-align: right;\">\n",
       "      <th></th>\n",
       "      <th>recency</th>\n",
       "      <th>Frequency</th>\n",
       "      <th>Monetory</th>\n",
       "      <th>rec_quartile</th>\n",
       "      <th>fre_quartile</th>\n",
       "      <th>mon_quartile</th>\n",
       "      <th>rfm_score</th>\n",
       "    </tr>\n",
       "    <tr>\n",
       "      <th>customer_id</th>\n",
       "      <th></th>\n",
       "      <th></th>\n",
       "      <th></th>\n",
       "      <th></th>\n",
       "      <th></th>\n",
       "      <th></th>\n",
       "      <th></th>\n",
       "    </tr>\n",
       "  </thead>\n",
       "  <tbody>\n",
       "    <tr>\n",
       "      <th>1</th>\n",
       "      <td>7 days</td>\n",
       "      <td>11</td>\n",
       "      <td>3018.09</td>\n",
       "      <td>4</td>\n",
       "      <td>1</td>\n",
       "      <td>2</td>\n",
       "      <td>412</td>\n",
       "    </tr>\n",
       "    <tr>\n",
       "      <th>2</th>\n",
       "      <td>128 days</td>\n",
       "      <td>3</td>\n",
       "      <td>2226.26</td>\n",
       "      <td>1</td>\n",
       "      <td>4</td>\n",
       "      <td>3</td>\n",
       "      <td>143</td>\n",
       "    </tr>\n",
       "    <tr>\n",
       "      <th>3</th>\n",
       "      <td>102 days</td>\n",
       "      <td>8</td>\n",
       "      <td>3362.81</td>\n",
       "      <td>1</td>\n",
       "      <td>1</td>\n",
       "      <td>2</td>\n",
       "      <td>112</td>\n",
       "    </tr>\n",
       "    <tr>\n",
       "      <th>4</th>\n",
       "      <td>195 days</td>\n",
       "      <td>2</td>\n",
       "      <td>220.57</td>\n",
       "      <td>1</td>\n",
       "      <td>4</td>\n",
       "      <td>4</td>\n",
       "      <td>144</td>\n",
       "    </tr>\n",
       "    <tr>\n",
       "      <th>5</th>\n",
       "      <td>16 days</td>\n",
       "      <td>6</td>\n",
       "      <td>2394.94</td>\n",
       "      <td>4</td>\n",
       "      <td>3</td>\n",
       "      <td>3</td>\n",
       "      <td>433</td>\n",
       "    </tr>\n",
       "    <tr>\n",
       "      <th>...</th>\n",
       "      <td>...</td>\n",
       "      <td>...</td>\n",
       "      <td>...</td>\n",
       "      <td>...</td>\n",
       "      <td>...</td>\n",
       "      <td>...</td>\n",
       "      <td>...</td>\n",
       "    </tr>\n",
       "    <tr>\n",
       "      <th>3496</th>\n",
       "      <td>256 days</td>\n",
       "      <td>4</td>\n",
       "      <td>2045.84</td>\n",
       "      <td>1</td>\n",
       "      <td>4</td>\n",
       "      <td>3</td>\n",
       "      <td>143</td>\n",
       "    </tr>\n",
       "    <tr>\n",
       "      <th>3497</th>\n",
       "      <td>52 days</td>\n",
       "      <td>3</td>\n",
       "      <td>1648.32</td>\n",
       "      <td>2</td>\n",
       "      <td>4</td>\n",
       "      <td>4</td>\n",
       "      <td>244</td>\n",
       "    </tr>\n",
       "    <tr>\n",
       "      <th>3498</th>\n",
       "      <td>127 days</td>\n",
       "      <td>6</td>\n",
       "      <td>3147.33</td>\n",
       "      <td>1</td>\n",
       "      <td>3</td>\n",
       "      <td>2</td>\n",
       "      <td>132</td>\n",
       "    </tr>\n",
       "    <tr>\n",
       "      <th>3499</th>\n",
       "      <td>51 days</td>\n",
       "      <td>7</td>\n",
       "      <td>4955.25</td>\n",
       "      <td>2</td>\n",
       "      <td>2</td>\n",
       "      <td>1</td>\n",
       "      <td>221</td>\n",
       "    </tr>\n",
       "    <tr>\n",
       "      <th>3500</th>\n",
       "      <td>144 days</td>\n",
       "      <td>6</td>\n",
       "      <td>1785.86</td>\n",
       "      <td>1</td>\n",
       "      <td>3</td>\n",
       "      <td>4</td>\n",
       "      <td>134</td>\n",
       "    </tr>\n",
       "  </tbody>\n",
       "</table>\n",
       "<p>3416 rows × 7 columns</p>\n",
       "</div>"
      ],
      "text/plain": [
       "             recency  Frequency  Monetory rec_quartile fre_quartile  \\\n",
       "customer_id                                                           \n",
       "1             7 days         11   3018.09            4            1   \n",
       "2           128 days          3   2226.26            1            4   \n",
       "3           102 days          8   3362.81            1            1   \n",
       "4           195 days          2    220.57            1            4   \n",
       "5            16 days          6   2394.94            4            3   \n",
       "...              ...        ...       ...          ...          ...   \n",
       "3496        256 days          4   2045.84            1            4   \n",
       "3497         52 days          3   1648.32            2            4   \n",
       "3498        127 days          6   3147.33            1            3   \n",
       "3499         51 days          7   4955.25            2            2   \n",
       "3500        144 days          6   1785.86            1            3   \n",
       "\n",
       "            mon_quartile  rfm_score  \n",
       "customer_id                          \n",
       "1                      2        412  \n",
       "2                      3        143  \n",
       "3                      2        112  \n",
       "4                      4        144  \n",
       "5                      3        433  \n",
       "...                  ...        ...  \n",
       "3496                   3        143  \n",
       "3497                   4        244  \n",
       "3498                   2        132  \n",
       "3499                   1        221  \n",
       "3500                   4        134  \n",
       "\n",
       "[3416 rows x 7 columns]"
      ]
     },
     "execution_count": 131,
     "metadata": {},
     "output_type": "execute_result"
    }
   ],
   "source": [
    "rfm_table"
   ]
  },
  {
   "cell_type": "code",
   "execution_count": 137,
   "metadata": {},
   "outputs": [],
   "source": [
    "import numpy as np\n",
    "rfm_table['recency'] = rfm_table['recency'].dt.days.astype(int)"
   ]
  },
  {
   "cell_type": "code",
   "execution_count": 138,
   "metadata": {},
   "outputs": [],
   "source": [
    "#Merging both RFM Table with Transaction and Customer Tables\n",
    "cust_trans_rfm = pd.merge(merged_df, rfm_table, left_on='customer_id', right_on='customer_id', how='inner')"
   ]
  },
  {
   "cell_type": "code",
   "execution_count": 139,
   "metadata": {},
   "outputs": [
    {
     "data": {
      "text/plain": [
       "Unnamed: 0_x                                             0\n",
       "customer_id                                              1\n",
       "first_name                                         Laraine\n",
       "last_name                                        Medendorp\n",
       "gender                                              Female\n",
       "past_3_years_bike_related_purchases                     93\n",
       "DOB                                             1953-10-12\n",
       "job_title                              Executive Secretary\n",
       "job_industry_category                               Health\n",
       "wealth_segment                               Mass Customer\n",
       "deceased_indicator                                       N\n",
       "owns_car                                               Yes\n",
       "tenure                                                11.0\n",
       "Age                                                     70\n",
       "Unnamed: 0_y                                            93\n",
       "transaction_id                                          94\n",
       "product_id                                              86\n",
       "transaction_date                       2017-12-23 00:00:00\n",
       "online_order                                           0.0\n",
       "order_status                                      Approved\n",
       "brand                                           OHM Cycles\n",
       "product_line                                      Standard\n",
       "product_class                                       medium\n",
       "product_size                                        medium\n",
       "list_price                                          235.63\n",
       "standard_cost                                       125.07\n",
       "product_first_sold_date                            38482.0\n",
       "Profit                                              110.56\n",
       "recency                                                  7\n",
       "Frequency                                               11\n",
       "Monetory                                           3018.09\n",
       "rec_quartile                                             4\n",
       "fre_quartile                                             1\n",
       "mon_quartile                                             2\n",
       "rfm_score                                              412\n",
       "Name: 0, dtype: object"
      ]
     },
     "execution_count": 139,
     "metadata": {},
     "output_type": "execute_result"
    }
   ],
   "source": [
    "cust_trans_rfm.iloc[0]"
   ]
  },
  {
   "cell_type": "code",
   "execution_count": 140,
   "metadata": {},
   "outputs": [],
   "source": [
    "import math\n",
    "cust_trans_rfm['Age_group']=cust_trans_rfm['Age'].apply(lambda x:(math.floor(x/10)+1)*10)"
   ]
  },
  {
   "cell_type": "code",
   "execution_count": 141,
   "metadata": {},
   "outputs": [
    {
     "data": {
      "text/plain": [
       "count    19354.000000\n",
       "mean       291.692002\n",
       "std        106.378543\n",
       "min        111.000000\n",
       "25%        212.000000\n",
       "50%        311.000000\n",
       "75%        411.000000\n",
       "max        444.000000\n",
       "Name: rfm_score, dtype: float64"
      ]
     },
     "execution_count": 141,
     "metadata": {},
     "output_type": "execute_result"
    }
   ],
   "source": [
    "cust_trans_rfm['rfm_score'].describe()"
   ]
  },
  {
   "cell_type": "code",
   "execution_count": 142,
   "metadata": {},
   "outputs": [],
   "source": [
    "\n",
    "def cust_score_title_lkup(cols):\n",
    "    \n",
    "    rfm_score = cols[0]\n",
    "    \n",
    "    if rfm_score >= 444:\n",
    "        return 'Platinum Customer'\n",
    "    elif rfm_score >=433 and rfm_score < 444:\n",
    "        return 'Very Loyal'\n",
    "    elif rfm_score >=421 and rfm_score < 433:\n",
    "        return 'Becoming Loyal'\n",
    "    elif rfm_score >=344 and rfm_score < 421:\n",
    "        return 'Recent Customer'\n",
    "    elif rfm_score >=323 and rfm_score < 344:\n",
    "        return 'Potential Customer'\n",
    "    elif rfm_score >=311 and rfm_score < 323:\n",
    "        return 'Late Bloomer'\n",
    "    elif rfm_score >=224 and rfm_score < 311:\n",
    "        return 'Loosing Customer'\n",
    "    elif rfm_score >=212 and rfm_score < 224:\n",
    "        return 'High Risk Customer'\n",
    "    elif rfm_score >=124 and rfm_score < 212:\n",
    "        return 'Almost Lost Customer'\n",
    "    elif rfm_score >=112 and rfm_score < 124:\n",
    "        return 'Evasive Customer'\n",
    "    else :\n",
    "        return 'Lost Customer'"
   ]
  },
  {
   "cell_type": "code",
   "execution_count": 143,
   "metadata": {},
   "outputs": [],
   "source": [
    "cust_trans_rfm['detail_cust_title']=cust_trans_rfm[['rfm_score']].apply(cust_score_title_lkup,axis=1)"
   ]
  },
  {
   "cell_type": "code",
   "execution_count": 144,
   "metadata": {},
   "outputs": [],
   "source": [
    "def get_rank(cols):\n",
    "    \n",
    "    title = cols\n",
    "    \n",
    "    if title=='Platinum Customer':\n",
    "        return 1\n",
    "    elif title=='Very Loyal':\n",
    "        return 2\n",
    "    elif title == 'Becoming Loyal':\n",
    "        return 3\n",
    "    elif title == 'Recent Customer':\n",
    "        return 4\n",
    "    elif title=='Potential Customer':\n",
    "        return 5\n",
    "    elif title == 'Late Bloomer':\n",
    "        return 6\n",
    "    elif title == 'Loosing Customer':\n",
    "        return 7\n",
    "    elif title=='High Risk Customer':\n",
    "        return 8\n",
    "    elif title == 'Almost Lost Customer':\n",
    "        return 9\n",
    "    elif title == 'Evasive Customer':\n",
    "        return 10\n",
    "    else :\n",
    "        return 11\n",
    "        "
   ]
  },
  {
   "cell_type": "code",
   "execution_count": 145,
   "metadata": {},
   "outputs": [],
   "source": [
    "cust_trans_rfm['rank']=cust_trans_rfm['detail_cust_title'].apply(get_rank)"
   ]
  },
  {
   "cell_type": "code",
   "execution_count": 146,
   "metadata": {},
   "outputs": [
    {
     "data": {
      "text/plain": [
       "Unnamed: 0_x                                             0\n",
       "customer_id                                              1\n",
       "first_name                                         Laraine\n",
       "last_name                                        Medendorp\n",
       "gender                                              Female\n",
       "past_3_years_bike_related_purchases                     93\n",
       "DOB                                             1953-10-12\n",
       "job_title                              Executive Secretary\n",
       "job_industry_category                               Health\n",
       "wealth_segment                               Mass Customer\n",
       "deceased_indicator                                       N\n",
       "owns_car                                               Yes\n",
       "tenure                                                11.0\n",
       "Age                                                     70\n",
       "Unnamed: 0_y                                            93\n",
       "transaction_id                                          94\n",
       "product_id                                              86\n",
       "transaction_date                       2017-12-23 00:00:00\n",
       "online_order                                           0.0\n",
       "order_status                                      Approved\n",
       "brand                                           OHM Cycles\n",
       "product_line                                      Standard\n",
       "product_class                                       medium\n",
       "product_size                                        medium\n",
       "list_price                                          235.63\n",
       "standard_cost                                       125.07\n",
       "product_first_sold_date                            38482.0\n",
       "Profit                                              110.56\n",
       "recency                                                  7\n",
       "Frequency                                               11\n",
       "Monetory                                           3018.09\n",
       "rec_quartile                                             4\n",
       "fre_quartile                                             1\n",
       "mon_quartile                                             2\n",
       "rfm_score                                              412\n",
       "Age_group                                               80\n",
       "detail_cust_title                          Recent Customer\n",
       "rank                                                     4\n",
       "Name: 0, dtype: object"
      ]
     },
     "execution_count": 146,
     "metadata": {},
     "output_type": "execute_result"
    }
   ],
   "source": [
    "cust_trans_rfm.iloc[0]"
   ]
  },
  {
   "cell_type": "code",
   "execution_count": 147,
   "metadata": {},
   "outputs": [],
   "source": [
    "#Exporting to CSV File\n",
    "\n",
    "cust_trans_rfm.to_csv(r\"C:\\Users\\ibeme\\Downloads\\Datasets\\Customer_Trans_RFM_Analysis.csv\", index=False)"
   ]
  },
  {
   "cell_type": "code",
   "execution_count": 148,
   "metadata": {},
   "outputs": [],
   "source": [
    "#3. Data Analysis and Exploration\n",
    "#3.1. New Customer vs Old Customer Age Distributions\n",
    "import pandas as pd\n",
    "import matplotlib.pyplot as plt\n",
    "import seaborn as sns\n",
    "\n",
    "# Loading the New Customers Dataset\n",
    "\n",
    "new_cust = pd.read_csv(r\"C:\\Users\\ibeme\\Downloads\\Datasets\\NewCustomerlist.csv\")"
   ]
  },
  {
   "cell_type": "code",
   "execution_count": 149,
   "metadata": {},
   "outputs": [
    {
     "data": {
      "text/html": [
       "<div>\n",
       "<style scoped>\n",
       "    .dataframe tbody tr th:only-of-type {\n",
       "        vertical-align: middle;\n",
       "    }\n",
       "\n",
       "    .dataframe tbody tr th {\n",
       "        vertical-align: top;\n",
       "    }\n",
       "\n",
       "    .dataframe thead th {\n",
       "        text-align: right;\n",
       "    }\n",
       "</style>\n",
       "<table border=\"1\" class=\"dataframe\">\n",
       "  <thead>\n",
       "    <tr style=\"text-align: right;\">\n",
       "      <th></th>\n",
       "      <th>Unnamed: 0</th>\n",
       "      <th>first_name</th>\n",
       "      <th>last_name</th>\n",
       "      <th>gender</th>\n",
       "      <th>past_3_years_bike_related_purchases</th>\n",
       "      <th>DOB</th>\n",
       "      <th>job_title</th>\n",
       "      <th>job_industry_category</th>\n",
       "      <th>wealth_segment</th>\n",
       "      <th>deceased_indicator</th>\n",
       "      <th>...</th>\n",
       "      <th>tenure</th>\n",
       "      <th>address</th>\n",
       "      <th>postcode</th>\n",
       "      <th>state</th>\n",
       "      <th>country</th>\n",
       "      <th>property_valuation</th>\n",
       "      <th>Rank</th>\n",
       "      <th>Value</th>\n",
       "      <th>Age</th>\n",
       "      <th>Age_group</th>\n",
       "    </tr>\n",
       "  </thead>\n",
       "  <tbody>\n",
       "    <tr>\n",
       "      <th>0</th>\n",
       "      <td>0</td>\n",
       "      <td>Chickie</td>\n",
       "      <td>Brister</td>\n",
       "      <td>Male</td>\n",
       "      <td>86</td>\n",
       "      <td>1957-07-12</td>\n",
       "      <td>General Manager</td>\n",
       "      <td>Manufacturing</td>\n",
       "      <td>Mass Customer</td>\n",
       "      <td>N</td>\n",
       "      <td>...</td>\n",
       "      <td>14</td>\n",
       "      <td>45 Shopko Center</td>\n",
       "      <td>4500</td>\n",
       "      <td>QLD</td>\n",
       "      <td>Australia</td>\n",
       "      <td>6</td>\n",
       "      <td>1</td>\n",
       "      <td>1.718750</td>\n",
       "      <td>66</td>\n",
       "      <td>70</td>\n",
       "    </tr>\n",
       "    <tr>\n",
       "      <th>1</th>\n",
       "      <td>1</td>\n",
       "      <td>Morly</td>\n",
       "      <td>Genery</td>\n",
       "      <td>Male</td>\n",
       "      <td>69</td>\n",
       "      <td>1970-03-22</td>\n",
       "      <td>Structural Engineer</td>\n",
       "      <td>Property</td>\n",
       "      <td>Mass Customer</td>\n",
       "      <td>N</td>\n",
       "      <td>...</td>\n",
       "      <td>16</td>\n",
       "      <td>14 Mccormick Park</td>\n",
       "      <td>2113</td>\n",
       "      <td>NSW</td>\n",
       "      <td>Australia</td>\n",
       "      <td>11</td>\n",
       "      <td>1</td>\n",
       "      <td>1.718750</td>\n",
       "      <td>53</td>\n",
       "      <td>60</td>\n",
       "    </tr>\n",
       "    <tr>\n",
       "      <th>2</th>\n",
       "      <td>2</td>\n",
       "      <td>Ardelis</td>\n",
       "      <td>Forrester</td>\n",
       "      <td>Female</td>\n",
       "      <td>10</td>\n",
       "      <td>1974-08-28</td>\n",
       "      <td>Senior Cost Accountant</td>\n",
       "      <td>Financial Services</td>\n",
       "      <td>Affluent Customer</td>\n",
       "      <td>N</td>\n",
       "      <td>...</td>\n",
       "      <td>10</td>\n",
       "      <td>5 Colorado Crossing</td>\n",
       "      <td>3505</td>\n",
       "      <td>VIC</td>\n",
       "      <td>Australia</td>\n",
       "      <td>5</td>\n",
       "      <td>1</td>\n",
       "      <td>1.718750</td>\n",
       "      <td>49</td>\n",
       "      <td>50</td>\n",
       "    </tr>\n",
       "    <tr>\n",
       "      <th>3</th>\n",
       "      <td>3</td>\n",
       "      <td>Lucine</td>\n",
       "      <td>Stutt</td>\n",
       "      <td>Female</td>\n",
       "      <td>64</td>\n",
       "      <td>1979-01-28</td>\n",
       "      <td>Account Representative III</td>\n",
       "      <td>Manufacturing</td>\n",
       "      <td>Affluent Customer</td>\n",
       "      <td>N</td>\n",
       "      <td>...</td>\n",
       "      <td>5</td>\n",
       "      <td>207 Annamark Plaza</td>\n",
       "      <td>4814</td>\n",
       "      <td>QLD</td>\n",
       "      <td>Australia</td>\n",
       "      <td>1</td>\n",
       "      <td>4</td>\n",
       "      <td>1.703125</td>\n",
       "      <td>45</td>\n",
       "      <td>50</td>\n",
       "    </tr>\n",
       "    <tr>\n",
       "      <th>4</th>\n",
       "      <td>4</td>\n",
       "      <td>Melinda</td>\n",
       "      <td>Hadlee</td>\n",
       "      <td>Female</td>\n",
       "      <td>34</td>\n",
       "      <td>1965-09-21</td>\n",
       "      <td>Financial Analyst</td>\n",
       "      <td>Financial Services</td>\n",
       "      <td>Affluent Customer</td>\n",
       "      <td>N</td>\n",
       "      <td>...</td>\n",
       "      <td>19</td>\n",
       "      <td>115 Montana Place</td>\n",
       "      <td>2093</td>\n",
       "      <td>NSW</td>\n",
       "      <td>Australia</td>\n",
       "      <td>9</td>\n",
       "      <td>4</td>\n",
       "      <td>1.703125</td>\n",
       "      <td>58</td>\n",
       "      <td>60</td>\n",
       "    </tr>\n",
       "  </tbody>\n",
       "</table>\n",
       "<p>5 rows × 21 columns</p>\n",
       "</div>"
      ],
      "text/plain": [
       "   Unnamed: 0 first_name  last_name  gender  \\\n",
       "0           0    Chickie    Brister    Male   \n",
       "1           1      Morly     Genery    Male   \n",
       "2           2    Ardelis  Forrester  Female   \n",
       "3           3     Lucine      Stutt  Female   \n",
       "4           4    Melinda     Hadlee  Female   \n",
       "\n",
       "   past_3_years_bike_related_purchases         DOB  \\\n",
       "0                                   86  1957-07-12   \n",
       "1                                   69  1970-03-22   \n",
       "2                                   10  1974-08-28   \n",
       "3                                   64  1979-01-28   \n",
       "4                                   34  1965-09-21   \n",
       "\n",
       "                    job_title job_industry_category     wealth_segment  \\\n",
       "0             General Manager         Manufacturing      Mass Customer   \n",
       "1         Structural Engineer              Property      Mass Customer   \n",
       "2      Senior Cost Accountant    Financial Services  Affluent Customer   \n",
       "3  Account Representative III         Manufacturing  Affluent Customer   \n",
       "4           Financial Analyst    Financial Services  Affluent Customer   \n",
       "\n",
       "  deceased_indicator  ... tenure              address postcode  state  \\\n",
       "0                  N  ...     14     45 Shopko Center     4500    QLD   \n",
       "1                  N  ...     16    14 Mccormick Park     2113    NSW   \n",
       "2                  N  ...     10  5 Colorado Crossing     3505    VIC   \n",
       "3                  N  ...      5   207 Annamark Plaza     4814    QLD   \n",
       "4                  N  ...     19    115 Montana Place     2093    NSW   \n",
       "\n",
       "     country property_valuation  Rank     Value  Age  Age_group  \n",
       "0  Australia                  6     1  1.718750   66         70  \n",
       "1  Australia                 11     1  1.718750   53         60  \n",
       "2  Australia                  5     1  1.718750   49         50  \n",
       "3  Australia                  1     4  1.703125   45         50  \n",
       "4  Australia                  9     4  1.703125   58         60  \n",
       "\n",
       "[5 rows x 21 columns]"
      ]
     },
     "execution_count": 149,
     "metadata": {},
     "output_type": "execute_result"
    }
   ],
   "source": [
    "new_cust.head()"
   ]
  },
  {
   "cell_type": "code",
   "execution_count": 150,
   "metadata": {},
   "outputs": [
    {
     "data": {
      "text/plain": [
       "count    983.000000\n",
       "mean      57.761953\n",
       "std       17.422400\n",
       "min       30.000000\n",
       "25%       50.000000\n",
       "50%       60.000000\n",
       "75%       70.000000\n",
       "max       90.000000\n",
       "Name: Age_group, dtype: float64"
      ]
     },
     "execution_count": 150,
     "metadata": {},
     "output_type": "execute_result"
    }
   ],
   "source": [
    "new_cust['Age_group'].describe()"
   ]
  },
  {
   "cell_type": "code",
   "execution_count": 151,
   "metadata": {},
   "outputs": [
    {
     "data": {
      "text/plain": [
       "<AxesSubplot:xlabel='Age_group', ylabel='Count'>"
      ]
     },
     "execution_count": 151,
     "metadata": {},
     "output_type": "execute_result"
    },
    {
     "data": {
      "image/png": "[encoded data removed]",
      "text/plain": [
       "<Figure size 432x288 with 1 Axes>"
      ]
     },
     "metadata": {
      "needs_background": "light"
     },
     "output_type": "display_data"
    }
   ],
   "source": [
    "sns.histplot(new_cust['Age_group'],bins=15)"
   ]
  },
  {
   "cell_type": "code",
   "execution_count": 152,
   "metadata": {},
   "outputs": [
    {
     "data": {
      "text/plain": [
       "<AxesSubplot:xlabel='Age_group', ylabel='Count'>"
      ]
     },
     "execution_count": 152,
     "metadata": {},
     "output_type": "execute_result"
    },
    {
     "data": {
      "image/png": "[encoded data removed]",
      "text/plain": [
       "<Figure size 432x288 with 1 Axes>"
      ]
     },
     "metadata": {
      "needs_background": "light"
     },
     "output_type": "display_data"
    }
   ],
   "source": [
    "sns.histplot(cust_trans_rfm['Age_group'],bins=15)"
   ]
  },
  {
   "cell_type": "code",
   "execution_count": 153,
   "metadata": {},
   "outputs": [],
   "source": [
    "cust_bike_purchase_by_gender = cust_trans_rfm.groupby('gender').agg({'past_3_years_bike_related_purchases':'sum'}).reset_index()"
   ]
  },
  {
   "cell_type": "code",
   "execution_count": 154,
   "metadata": {},
   "outputs": [],
   "source": [
    "cust_bike_purchase_by_gender['percent_of_total']= (100*cust_bike_purchase_by_gender['past_3_years_bike_related_purchases'])/sum(cust_bike_purchase_by_gender['past_3_years_bike_related_purchases'])"
   ]
  },
  {
   "cell_type": "code",
   "execution_count": 155,
   "metadata": {},
   "outputs": [
    {
     "data": {
      "text/html": [
       "<div>\n",
       "<style scoped>\n",
       "    .dataframe tbody tr th:only-of-type {\n",
       "        vertical-align: middle;\n",
       "    }\n",
       "\n",
       "    .dataframe tbody tr th {\n",
       "        vertical-align: top;\n",
       "    }\n",
       "\n",
       "    .dataframe thead th {\n",
       "        text-align: right;\n",
       "    }\n",
       "</style>\n",
       "<table border=\"1\" class=\"dataframe\">\n",
       "  <thead>\n",
       "    <tr style=\"text-align: right;\">\n",
       "      <th></th>\n",
       "      <th>gender</th>\n",
       "      <th>past_3_years_bike_related_purchases</th>\n",
       "      <th>percent_of_total</th>\n",
       "    </tr>\n",
       "  </thead>\n",
       "  <tbody>\n",
       "    <tr>\n",
       "      <th>0</th>\n",
       "      <td>Female</td>\n",
       "      <td>478488</td>\n",
       "      <td>50.503731</td>\n",
       "    </tr>\n",
       "    <tr>\n",
       "      <th>1</th>\n",
       "      <td>Male</td>\n",
       "      <td>468943</td>\n",
       "      <td>49.496269</td>\n",
       "    </tr>\n",
       "  </tbody>\n",
       "</table>\n",
       "</div>"
      ],
      "text/plain": [
       "   gender  past_3_years_bike_related_purchases  percent_of_total\n",
       "0  Female                               478488         50.503731\n",
       "1    Male                               468943         49.496269"
      ]
     },
     "execution_count": 155,
     "metadata": {},
     "output_type": "execute_result"
    }
   ],
   "source": [
    "cust_bike_purchase_by_gender"
   ]
  },
  {
   "cell_type": "code",
   "execution_count": 156,
   "metadata": {},
   "outputs": [
    {
     "data": {
      "text/plain": [
       "<AxesSubplot:xlabel='gender', ylabel='percent_of_total'>"
      ]
     },
     "execution_count": 156,
     "metadata": {},
     "output_type": "execute_result"
    },
    {
     "data": {
      "image/png": "[encoded data removed]",
      "text/plain": [
       "<Figure size 432x288 with 1 Axes>"
      ]
     },
     "metadata": {
      "needs_background": "light"
     },
     "output_type": "display_data"
    }
   ],
   "source": [
    "sns.barplot(data=cust_bike_purchase_by_gender,x='gender',y='percent_of_total')"
   ]
  },
  {
   "cell_type": "code",
   "execution_count": 157,
   "metadata": {},
   "outputs": [
    {
     "data": {
      "text/plain": [
       "Index(['Unnamed: 0', 'first_name', 'last_name', 'gender',\n",
       "       'past_3_years_bike_related_purchases', 'DOB', 'job_title',\n",
       "       'job_industry_category', 'wealth_segment', 'deceased_indicator',\n",
       "       'owns_car', 'tenure', 'address', 'postcode', 'state', 'country',\n",
       "       'property_valuation', 'Rank', 'Value', 'Age', 'Age_group'],\n",
       "      dtype='object')"
      ]
     },
     "execution_count": 157,
     "metadata": {},
     "output_type": "execute_result"
    }
   ],
   "source": [
    "new_cust.columns"
   ]
  },
  {
   "cell_type": "code",
   "execution_count": 158,
   "metadata": {},
   "outputs": [
    {
     "data": {
      "text/plain": [
       "<AxesSubplot:xlabel='job_industry_category', ylabel='count'>"
      ]
     },
     "execution_count": 158,
     "metadata": {},
     "output_type": "execute_result"
    },
    {
     "data": {
      "image/png": "[encoded data removed]",
      "text/plain": [
       "<Figure size 1440x432 with 1 Axes>"
      ]
     },
     "metadata": {
      "needs_background": "light"
     },
     "output_type": "display_data"
    }
   ],
   "source": [
    "#Job Industry Customer Distribution\n",
    "plt.figure(figsize=(20,6))\n",
    "\n",
    "sns.countplot(x='job_industry_category',data=new_cust[~(new_cust['job_industry_category'] ==\"Missing\")])\n",
    "#sns.histplot(new_cust[new_cust['job_industry_category'] ==\"Missing\"])"
   ]
  },
  {
   "cell_type": "code",
   "execution_count": 81,
   "metadata": {},
   "outputs": [
    {
     "data": {
      "text/plain": [
       "<AxesSubplot:xlabel='Age_group', ylabel='count'>"
      ]
     },
     "execution_count": 81,
     "metadata": {},
     "output_type": "execute_result"
    },
    {
     "data": {
      "image/png": "[encoded data removed]",
      "text/plain": [
       "<Figure size 1440x432 with 1 Axes>"
      ]
     },
     "metadata": {
      "needs_background": "light"
     },
     "output_type": "display_data"
    }
   ],
   "source": [
    "#Wealth segmentation by Age Group for New customers\n",
    "\n",
    "plt.figure(figsize=(20,6))\n",
    "\n",
    "sns.countplot(x='Age_group',hue='wealth_segment',data=new_cust)\n"
   ]
  },
  {
   "cell_type": "code",
   "execution_count": 159,
   "metadata": {},
   "outputs": [
    {
     "data": {
      "text/plain": [
       "<AxesSubplot:xlabel='Age_group', ylabel='count'>"
      ]
     },
     "execution_count": 159,
     "metadata": {},
     "output_type": "execute_result"
    },
    {
     "data": {
      "image/png": "[encoded data removed]",
      "text/plain": [
       "<Figure size 1440x432 with 1 Axes>"
      ]
     },
     "metadata": {
      "needs_background": "light"
     },
     "output_type": "display_data"
    }
   ],
   "source": [
    "plt.figure(figsize=(20,6))\n",
    "\n",
    "sns.countplot(x='Age_group',hue='wealth_segment',data=cust_trans_rfm)"
   ]
  },
  {
   "cell_type": "code",
   "execution_count": 160,
   "metadata": {},
   "outputs": [],
   "source": [
    "cust_address_info = pd.read_csv(r\"C:\\Users\\ibeme\\Downloads\\Datasets\\Customer_address.csv\")"
   ]
  },
  {
   "cell_type": "code",
   "execution_count": 161,
   "metadata": {},
   "outputs": [],
   "source": [
    "merged_df = cust_trans_rfm.merge(cust_address_info, left_on = 'customer_id',right_on = 'customer_id',how = 'inner')"
   ]
  },
  {
   "cell_type": "code",
   "execution_count": 162,
   "metadata": {},
   "outputs": [],
   "source": [
    "state_car_owners=merged_df[['state','owns_car','customer_id']].drop_duplicates().groupby(['state','owns_car']).agg({'customer_id':'count'}).reset_index()"
   ]
  },
  {
   "cell_type": "code",
   "execution_count": 163,
   "metadata": {},
   "outputs": [],
   "source": [
    "state_car_owners.rename(columns={'customer_id':'Number of Customers'}, inplace=True)"
   ]
  },
  {
   "cell_type": "code",
   "execution_count": 164,
   "metadata": {},
   "outputs": [
    {
     "data": {
      "text/plain": [
       "<AxesSubplot:xlabel='state', ylabel='Number of Customers'>"
      ]
     },
     "execution_count": 164,
     "metadata": {},
     "output_type": "execute_result"
    },
    {
     "data": {
      "image/png": "[encoded data removed]",
      "text/plain": [
       "<Figure size 576x504 with 1 Axes>"
      ]
     },
     "metadata": {
      "needs_background": "light"
     },
     "output_type": "display_data"
    }
   ],
   "source": [
    "plt.figure(figsize=(8,7))\n",
    "sns.barplot(x='state', y='Number of Customers' , hue='owns_car', data=state_car_owners)"
   ]
  },
  {
   "cell_type": "code",
   "execution_count": 165,
   "metadata": {},
   "outputs": [
    {
     "name": "stdout",
     "output_type": "stream",
     "text": [
      "<class 'pandas.core.frame.DataFrame'>\n",
      "Int64Index: 19354 entries, 0 to 19353\n",
      "Data columns (total 38 columns):\n",
      " #   Column                               Non-Null Count  Dtype         \n",
      "---  ------                               --------------  -----         \n",
      " 0   Unnamed: 0_x                         19354 non-null  int64         \n",
      " 1   customer_id                          19354 non-null  int64         \n",
      " 2   first_name                           19354 non-null  object        \n",
      " 3   last_name                            19354 non-null  object        \n",
      " 4   gender                               19354 non-null  object        \n",
      " 5   past_3_years_bike_related_purchases  19354 non-null  int64         \n",
      " 6   DOB                                  19354 non-null  object        \n",
      " 7   job_title                            19354 non-null  object        \n",
      " 8   job_industry_category                19354 non-null  object        \n",
      " 9   wealth_segment                       19354 non-null  object        \n",
      " 10  deceased_indicator                   19354 non-null  object        \n",
      " 11  owns_car                             19354 non-null  object        \n",
      " 12  tenure                               19354 non-null  float64       \n",
      " 13  Age                                  19354 non-null  int64         \n",
      " 14  Unnamed: 0_y                         19354 non-null  int64         \n",
      " 15  transaction_id                       19354 non-null  int64         \n",
      " 16  product_id                           19354 non-null  int64         \n",
      " 17  transaction_date                     19354 non-null  datetime64[ns]\n",
      " 18  online_order                         19354 non-null  float64       \n",
      " 19  order_status                         19354 non-null  object        \n",
      " 20  brand                                19354 non-null  object        \n",
      " 21  product_line                         19354 non-null  object        \n",
      " 22  product_class                        19354 non-null  object        \n",
      " 23  product_size                         19354 non-null  object        \n",
      " 24  list_price                           19354 non-null  float64       \n",
      " 25  standard_cost                        19354 non-null  float64       \n",
      " 26  product_first_sold_date              19354 non-null  float64       \n",
      " 27  Profit                               19354 non-null  float64       \n",
      " 28  recency                              19354 non-null  int32         \n",
      " 29  Frequency                            19354 non-null  int64         \n",
      " 30  Monetory                             19354 non-null  float64       \n",
      " 31  rec_quartile                         19354 non-null  category      \n",
      " 32  fre_quartile                         19354 non-null  category      \n",
      " 33  mon_quartile                         19354 non-null  category      \n",
      " 34  rfm_score                            19354 non-null  int32         \n",
      " 35  Age_group                            19354 non-null  int64         \n",
      " 36  detail_cust_title                    19354 non-null  object        \n",
      " 37  rank                                 19354 non-null  int64         \n",
      "dtypes: category(3), datetime64[ns](1), float64(7), int32(2), int64(10), object(15)\n",
      "memory usage: 5.2+ MB\n"
     ]
    }
   ],
   "source": [
    "cust_trans_rfm.info()"
   ]
  },
  {
   "cell_type": "code",
   "execution_count": 166,
   "metadata": {},
   "outputs": [
    {
     "data": {
      "text/plain": [
       "<AxesSubplot:xlabel='Frequency', ylabel='Monetory'>"
      ]
     },
     "execution_count": 166,
     "metadata": {},
     "output_type": "execute_result"
    },
    {
     "data": {
      "image/png": "[encoded data removed]",
      "text/plain": [
       "<Figure size 432x288 with 1 Axes>"
      ]
     },
     "metadata": {
      "needs_background": "light"
     },
     "output_type": "display_data"
    }
   ],
   "source": [
    "# RFM Analysis Scatter Plot\n",
    "sns.scatterplot(x=cust_trans_rfm['Frequency'].astype(int),y=cust_trans_rfm['Monetory'].astype(int))"
   ]
  },
  {
   "cell_type": "code",
   "execution_count": 167,
   "metadata": {},
   "outputs": [
    {
     "data": {
      "text/plain": [
       "<AxesSubplot:xlabel='recency', ylabel='Monetory'>"
      ]
     },
     "execution_count": 167,
     "metadata": {},
     "output_type": "execute_result"
    },
    {
     "data": {
      "image/png": "[encoded data removed]",
      "text/plain": [
       "<Figure size 432x288 with 1 Axes>"
      ]
     },
     "metadata": {
      "needs_background": "light"
     },
     "output_type": "display_data"
    }
   ],
   "source": [
    "# RFM Analysis Scatter Plot\n",
    "sns.scatterplot(x=cust_trans_rfm['recency'],y=cust_trans_rfm['Monetory'].astype(int))"
   ]
  }
 ],
 "metadata": {
  "kernelspec": {
   "display_name": "Python 3 (ipykernel)",
   "language": "python",
   "name": "python3"
  },
  "language_info": {
   "codemirror_mode": {
    "name": "ipython",
    "version": 3
   },
   "file_extension": ".py",
   "mimetype": "text/x-python",
   "name": "python",
   "nbconvert_exporter": "python",
   "pygments_lexer": "ipython3",
   "version": "3.9.7"
  }
 },
 "nbformat": 4,
 "nbformat_minor": 2
}
